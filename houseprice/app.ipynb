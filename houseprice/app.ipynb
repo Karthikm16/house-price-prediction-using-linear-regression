{
 "cells": [
  {
   "cell_type": "code",
   "execution_count": null,
   "id": "a48e0902",
   "metadata": {},
   "outputs": [
    {
     "name": "stdout",
     "output_type": "stream",
     "text": [
      " * Serving Flask app '__main__'\n",
      " * Debug mode: off\n"
     ]
    },
    {
     "name": "stderr",
     "output_type": "stream",
     "text": [
      "WARNING: This is a development server. Do not use it in a production deployment. Use a production WSGI server instead.\n",
      " * Running on http://127.0.0.1:100\n",
      "Press CTRL+C to quit\n"
     ]
    }
   ],
   "source": [
    "from flask import Flask, render_template, request\n",
    "import joblib\n",
    "import pickle\n",
    "import numpy as np\n",
    "\n",
    "filename = 'housepriceprediction.pkl'\n",
    "model = joblib.load(filename)\n",
    "\n",
    "app = Flask(__name__)\n",
    "\n",
    "@app.route('/')\n",
    "def home():\n",
    "\treturn render_template('index.html')\n",
    "\n",
    "\n",
    "@app.route('/predict', methods=['GET','POST'])\n",
    "def predict():\n",
    "    if request.method == 'POST':\n",
    "\n",
    "        area = int(request.form['area'])\n",
    "        bedrooms = int(request.form['bedrooms'])\n",
    "        bathrooms = int(request.form['bathrooms'])\n",
    "        stories = int(request.form['stories'])\n",
    "        mainroad = int(request.form['mainroad'])\n",
    "        guestroom = int(request.form['guestroom'])\n",
    "        basement = int(request.form['basement'])\n",
    "        hotwaterheating = int(request.form['hotwaterheating'])\n",
    "        airconditioning = int(request.form['airconditioning'])\n",
    "        parking = int(request.form['parking'])\n",
    "        prefarea = int(request.form['prefarea'])\n",
    "        furnishingstatus = int(request.form['furnishingstatus'])\n",
    "\n",
    "        data = np.array([[area,bedrooms,bathrooms,stories,mainroad,guestroom,basement,hotwaterheating,airconditioning,parking,prefarea,furnishingstatus]])\n",
    "        my_prediction = model.predict(data)\n",
    "        \n",
    "        return render_template('result.html', prediction=my_prediction)\n",
    "        \n",
    "        \n",
    "if __name__ == '__main__':\n",
    "\tapp.run(port=100)\n",
    "\n"
   ]
  },
  {
   "cell_type": "code",
   "execution_count": null,
   "id": "feb79355",
   "metadata": {},
   "outputs": [],
   "source": []
  }
 ],
 "metadata": {
  "kernelspec": {
   "display_name": "Python 3 (ipykernel)",
   "language": "python",
   "name": "python3"
  },
  "language_info": {
   "codemirror_mode": {
    "name": "ipython",
    "version": 3
   },
   "file_extension": ".py",
   "mimetype": "text/x-python",
   "name": "python",
   "nbconvert_exporter": "python",
   "pygments_lexer": "ipython3",
   "version": "3.8.16"
  }
 },
 "nbformat": 4,
 "nbformat_minor": 5
}
